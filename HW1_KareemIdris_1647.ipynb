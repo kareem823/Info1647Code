{
  "nbformat": 4,
  "nbformat_minor": 0,
  "metadata": {
    "colab": {
      "provenance": [],
      "gpuType": "T4",
      "authorship_tag": "ABX9TyMgpTjJ8C2/WHAOVvdgfVxG",
      "include_colab_link": true
    },
    "kernelspec": {
      "name": "python3",
      "display_name": "Python 3"
    },
    "language_info": {
      "name": "python"
    },
    "accelerator": "GPU"
  },
  "cells": [
    {
      "cell_type": "markdown",
      "metadata": {
        "id": "view-in-github",
        "colab_type": "text"
      },
      "source": [
        "<a href=\"https://colab.research.google.com/github/kareem823/Info1647Code/blob/main/HW1_KareemIdris_1647.ipynb\" target=\"_parent\"><img src=\"https://colab.research.google.com/assets/colab-badge.svg\" alt=\"Open In Colab\"/></a>"
      ]
    },
    {
      "cell_type": "markdown",
      "source": [
        "Name: Kareem Idris, Student#: 0881393, Due: Sept 22"
      ],
      "metadata": {
        "id": "t0pqiiEGB2aD"
      }
    },
    {
      "cell_type": "code",
      "execution_count": 2,
      "metadata": {
        "id": "dSZtGSdk_2cH"
      },
      "outputs": [],
      "source": [
        "import torch"
      ]
    },
    {
      "cell_type": "code",
      "source": [
        "#1.\tCreate a random tensor with shape (7, 7).\n",
        "random_tensor = torch.rand(7,7)\n"
      ],
      "metadata": {
        "id": "xUuWjrkuAS_H"
      },
      "execution_count": 3,
      "outputs": []
    },
    {
      "cell_type": "markdown",
      "source": [
        "2.\tPerform a matrix multiplication on the tensor from 2 with another random tensor with shape (1, 7) (hint: you may have to transpose the second tensor)."
      ],
      "metadata": {
        "id": "2W4TruB0Apb6"
      }
    },
    {
      "cell_type": "code",
      "source": [
        "random_tensor2 = torch.rand(1,7)\n",
        "#matmul() is for multiplying the 2 matrixes\n",
        "#.T is used to transpose over a tensor.\n",
        "matmul_result = torch.matmul(random_tensor, random_tensor2.T)"
      ],
      "metadata": {
        "id": "XZFNCGsaAnKc"
      },
      "execution_count": 5,
      "outputs": []
    },
    {
      "cell_type": "markdown",
      "source": [
        "3.\tSet the random seed to 0 and do exercises 1 & 2 over again"
      ],
      "metadata": {
        "id": "p7ePbv6RBYOn"
      }
    },
    {
      "cell_type": "code",
      "source": [
        "#to set the random seed to 0\n",
        "torch.manual_seed(0)\n",
        "#redo 1 and 2\n",
        "random_tensor3 = torch.rand(7,7)\n",
        "random_tensor4 = torch.rand(1, 7)\n",
        "matmul_result2 = torch.matmul(random_tensor3, random_tensor4.T)\n",
        "\n"
      ],
      "metadata": {
        "id": "QJrP3LHRCDPX"
      },
      "execution_count": 6,
      "outputs": []
    },
    {
      "cell_type": "markdown",
      "source": [
        "4.\tSpeaking of random seeds, we saw how to set it with torch.manual_seed() but is there a GPU equivalent? (hint: you'll need to look into the documentation for torch.cuda for this one). If there is, set the GPU random seed to 1234."
      ],
      "metadata": {
        "id": "LyQgD8OYBbVm"
      }
    },
    {
      "cell_type": "code",
      "source": [
        "#check if cuda is available\n",
        "if torch.cuda.is_available():\n",
        "    #set seed to 1234\n",
        "    #needed gpu to run\n",
        "    #CUDA is a software layer that gives direct access to\n",
        "    # the GPU's virtual instruction set and parallel\n",
        "    # computational elements for the execution of compute kernels.\n",
        "    torch.cuda.manual_seed(1234)\n",
        "else:\n",
        "    print(\"Cuda is not available for this device now.\")"
      ],
      "metadata": {
        "id": "PRbumGdJFF5-"
      },
      "execution_count": 8,
      "outputs": []
    },
    {
      "cell_type": "markdown",
      "source": [
        "5.\tCreate two random tensors of shape (2, 3) and send them both to the GPU (you'll need access to a GPU for this). Set torch.manual_seed(1234) when creating the tensors (this doesn't have to be the GPU random seed)."
      ],
      "metadata": {
        "id": "LfkUu3ZXBhko"
      }
    },
    {
      "cell_type": "code",
      "source": [
        "#create random tensors\n",
        "#set run to gpu in settings"
      ],
      "metadata": {
        "id": "5hHI2bqoFvf5"
      },
      "execution_count": null,
      "outputs": []
    },
    {
      "cell_type": "markdown",
      "source": [
        "6.\tPerform a matrix multiplication on the tensors you created in 5 (again, you may have to adjust the shapes of one of the tensors)."
      ],
      "metadata": {
        "id": "Xn9mroW0Biab"
      }
    },
    {
      "cell_type": "code",
      "source": [],
      "metadata": {
        "id": "CyH625rjF7kN"
      },
      "execution_count": null,
      "outputs": []
    },
    {
      "cell_type": "markdown",
      "source": [
        "7.\tFind the maximum and minimum values of the output of 6."
      ],
      "metadata": {
        "id": "zDFYCLEVBkpk"
      }
    },
    {
      "cell_type": "markdown",
      "source": [
        "8.\tFind the maximum and minimum index values of the output of 6."
      ],
      "metadata": {
        "id": "yNr8_WXcBmJ0"
      }
    },
    {
      "cell_type": "markdown",
      "source": [
        "9.\tMake a random tensor with shape (1, 1, 1, 10) and then create a new tensor with all the 1 dimensions removed to be left with a tensor of shape (10). Set the seed to 7 when you create it and print out the first tensor and it's shape as well as the second tensor and it's shape."
      ],
      "metadata": {
        "id": "X92f6MztBrCd"
      }
    },
    {
      "cell_type": "markdown",
      "source": [
        "10.\tGiven the Ax=b example we showed in the class with 4 equations in slide #14. Write a Pytorch code defining the coefficient A matrix (with intercept) the vector of unknowns x, and the vector of outputs or targets b.  Then Solve the system to find the vector x by applying the normal equation at the bottom of slide# 17    𝜽^=(𝑿T𝑿)-1 𝑿T𝒚\n",
        "Hint: Your answer to question 10 is in slide# 15.\n"
      ],
      "metadata": {
        "id": "c727_8TCBsAO"
      }
    }
  ]
}